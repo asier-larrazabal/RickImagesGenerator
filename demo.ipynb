{
 "cells": [
  {
   "cell_type": "markdown",
   "id": "24e655c7",
   "metadata": {},
   "source": [
    "# Rick Images Generator Interactive Demo\n",
    "\n",
    "This notebook provides an interactive interface to generate images of Rick Sanchez using the pre-trained GAN model. You can explore the latent space and create unique Rick images with real-time controls."
   ]
  },
  {
   "cell_type": "code",
   "execution_count": 1,
   "id": "a682190f",
   "metadata": {},
   "outputs": [
    {
     "name": "stdout",
     "output_type": "stream",
     "text": [
      "Requirement already satisfied: torch in c:\\users\\asier\\appdata\\local\\programs\\python\\python313\\lib\\site-packages (2.6.0)\n",
      "Requirement already satisfied: torchvision in c:\\users\\asier\\appdata\\local\\programs\\python\\python313\\lib\\site-packages (0.21.0)\n",
      "Requirement already satisfied: matplotlib in c:\\users\\asier\\appdata\\local\\programs\\python\\python313\\lib\\site-packages (3.10.1)\n",
      "Requirement already satisfied: ipywidgets in c:\\users\\asier\\appdata\\local\\programs\\python\\python313\\lib\\site-packages (8.1.6)\n",
      "Requirement already satisfied: filelock in c:\\users\\asier\\appdata\\local\\programs\\python\\python313\\lib\\site-packages (from torch) (3.18.0)\n",
      "Requirement already satisfied: typing-extensions>=4.10.0 in c:\\users\\asier\\appdata\\local\\programs\\python\\python313\\lib\\site-packages (from torch) (4.12.2)\n",
      "Requirement already satisfied: networkx in c:\\users\\asier\\appdata\\local\\programs\\python\\python313\\lib\\site-packages (from torch) (3.4.2)\n",
      "Requirement already satisfied: jinja2 in c:\\users\\asier\\appdata\\local\\programs\\python\\python313\\lib\\site-packages (from torch) (3.1.6)\n",
      "Requirement already satisfied: fsspec in c:\\users\\asier\\appdata\\local\\programs\\python\\python313\\lib\\site-packages (from torch) (2025.3.2)\n",
      "Requirement already satisfied: setuptools in c:\\users\\asier\\appdata\\local\\programs\\python\\python313\\lib\\site-packages (from torch) (78.1.0)\n",
      "Requirement already satisfied: sympy==1.13.1 in c:\\users\\asier\\appdata\\local\\programs\\python\\python313\\lib\\site-packages (from torch) (1.13.1)\n",
      "Requirement already satisfied: mpmath<1.4,>=1.1.0 in c:\\users\\asier\\appdata\\local\\programs\\python\\python313\\lib\\site-packages (from sympy==1.13.1->torch) (1.3.0)\n",
      "Requirement already satisfied: numpy in c:\\users\\asier\\appdata\\local\\programs\\python\\python313\\lib\\site-packages (from torchvision) (2.2.0)\n",
      "Requirement already satisfied: pillow!=8.3.*,>=5.3.0 in c:\\users\\asier\\appdata\\local\\programs\\python\\python313\\lib\\site-packages (from torchvision) (11.2.0)\n",
      "Requirement already satisfied: contourpy>=1.0.1 in c:\\users\\asier\\appdata\\local\\programs\\python\\python313\\lib\\site-packages (from matplotlib) (1.3.1)\n",
      "Requirement already satisfied: cycler>=0.10 in c:\\users\\asier\\appdata\\local\\programs\\python\\python313\\lib\\site-packages (from matplotlib) (0.12.1)\n",
      "Requirement already satisfied: fonttools>=4.22.0 in c:\\users\\asier\\appdata\\local\\programs\\python\\python313\\lib\\site-packages (from matplotlib) (4.56.0)\n",
      "Requirement already satisfied: kiwisolver>=1.3.1 in c:\\users\\asier\\appdata\\local\\programs\\python\\python313\\lib\\site-packages (from matplotlib) (1.4.8)\n",
      "Requirement already satisfied: packaging>=20.0 in c:\\users\\asier\\appdata\\local\\programs\\python\\python313\\lib\\site-packages (from matplotlib) (24.2)\n",
      "Requirement already satisfied: pyparsing>=2.3.1 in c:\\users\\asier\\appdata\\local\\programs\\python\\python313\\lib\\site-packages (from matplotlib) (3.2.3)\n",
      "Requirement already satisfied: python-dateutil>=2.7 in c:\\users\\asier\\appdata\\local\\programs\\python\\python313\\lib\\site-packages (from matplotlib) (2.9.0.post0)\n",
      "Requirement already satisfied: comm>=0.1.3 in c:\\users\\asier\\appdata\\roaming\\python\\python313\\site-packages (from ipywidgets) (0.2.2)\n",
      "Requirement already satisfied: ipython>=6.1.0 in c:\\users\\asier\\appdata\\roaming\\python\\python313\\site-packages (from ipywidgets) (9.0.2)\n",
      "Requirement already satisfied: traitlets>=4.3.1 in c:\\users\\asier\\appdata\\roaming\\python\\python313\\site-packages (from ipywidgets) (5.14.3)\n",
      "Requirement already satisfied: widgetsnbextension~=4.0.14 in c:\\users\\asier\\appdata\\local\\programs\\python\\python313\\lib\\site-packages (from ipywidgets) (4.0.14)\n",
      "Requirement already satisfied: jupyterlab_widgets~=3.0.14 in c:\\users\\asier\\appdata\\local\\programs\\python\\python313\\lib\\site-packages (from ipywidgets) (3.0.14)\n",
      "Requirement already satisfied: colorama in c:\\users\\asier\\appdata\\local\\programs\\python\\python313\\lib\\site-packages (from ipython>=6.1.0->ipywidgets) (0.4.6)\n",
      "Requirement already satisfied: decorator in c:\\users\\asier\\appdata\\roaming\\python\\python313\\site-packages (from ipython>=6.1.0->ipywidgets) (5.2.1)\n",
      "Requirement already satisfied: ipython-pygments-lexers in c:\\users\\asier\\appdata\\roaming\\python\\python313\\site-packages (from ipython>=6.1.0->ipywidgets) (1.1.1)\n",
      "Requirement already satisfied: jedi>=0.16 in c:\\users\\asier\\appdata\\roaming\\python\\python313\\site-packages (from ipython>=6.1.0->ipywidgets) (0.19.2)\n",
      "Requirement already satisfied: matplotlib-inline in c:\\users\\asier\\appdata\\roaming\\python\\python313\\site-packages (from ipython>=6.1.0->ipywidgets) (0.1.7)\n",
      "Requirement already satisfied: prompt_toolkit<3.1.0,>=3.0.41 in c:\\users\\asier\\appdata\\roaming\\python\\python313\\site-packages (from ipython>=6.1.0->ipywidgets) (3.0.50)\n",
      "Requirement already satisfied: pygments>=2.4.0 in c:\\users\\asier\\appdata\\roaming\\python\\python313\\site-packages (from ipython>=6.1.0->ipywidgets) (2.19.1)\n",
      "Requirement already satisfied: stack_data in c:\\users\\asier\\appdata\\roaming\\python\\python313\\site-packages (from ipython>=6.1.0->ipywidgets) (0.6.3)\n",
      "Requirement already satisfied: six>=1.5 in c:\\users\\asier\\appdata\\local\\programs\\python\\python313\\lib\\site-packages (from python-dateutil>=2.7->matplotlib) (1.17.0)\n",
      "Requirement already satisfied: MarkupSafe>=2.0 in c:\\users\\asier\\appdata\\local\\programs\\python\\python313\\lib\\site-packages (from jinja2->torch) (3.0.2)\n",
      "Requirement already satisfied: parso<0.9.0,>=0.8.4 in c:\\users\\asier\\appdata\\roaming\\python\\python313\\site-packages (from jedi>=0.16->ipython>=6.1.0->ipywidgets) (0.8.4)\n",
      "Requirement already satisfied: wcwidth in c:\\users\\asier\\appdata\\roaming\\python\\python313\\site-packages (from prompt_toolkit<3.1.0,>=3.0.41->ipython>=6.1.0->ipywidgets) (0.2.13)\n",
      "Requirement already satisfied: executing>=1.2.0 in c:\\users\\asier\\appdata\\roaming\\python\\python313\\site-packages (from stack_data->ipython>=6.1.0->ipywidgets) (2.2.0)\n",
      "Requirement already satisfied: asttokens>=2.1.0 in c:\\users\\asier\\appdata\\roaming\\python\\python313\\site-packages (from stack_data->ipython>=6.1.0->ipywidgets) (3.0.0)\n",
      "Requirement already satisfied: pure-eval in c:\\users\\asier\\appdata\\roaming\\python\\python313\\site-packages (from stack_data->ipython>=6.1.0->ipywidgets) (0.2.3)\n",
      "Note: you may need to restart the kernel to use updated packages.\n"
     ]
    }
   ],
   "source": [
    "# Install required packages\n",
    "%pip install torch torchvision matplotlib ipywidgets\n",
    "\n",
    "import torch\n",
    "import torch.nn as nn\n",
    "import torchvision.utils as vutils\n",
    "import torchvision.transforms as transforms\n",
    "import matplotlib.pyplot as plt\n",
    "import numpy as np\n",
    "import os\n",
    "import ipywidgets as widgets\n",
    "from IPython.display import display, HTML, clear_output\n",
    "import random\n",
    "from datetime import datetime"
   ]
  },
  {
   "cell_type": "markdown",
   "id": "72aab857",
   "metadata": {},
   "source": [
    "## Loading Dependencies and Setup\n",
    "\n",
    "First, we'll define the GAN architecture that was used for training, so we can load our pre-trained model."
   ]
  },
  {
   "cell_type": "code",
   "execution_count": 2,
   "id": "61d5fc69",
   "metadata": {},
   "outputs": [
    {
     "name": "stdout",
     "output_type": "stream",
     "text": [
      "Using device: cpu\n"
     ]
    }
   ],
   "source": [
    "# Check for CUDA availability\n",
    "device = torch.device(\"cuda:0\" if torch.cuda.is_available() else \"cpu\")\n",
    "print(f\"Using device: {device}\")\n",
    "\n",
    "# Configuration parameters\n",
    "nz = 100  # Size of latent vector (noise)\n",
    "ngf = 64  # Size of feature maps in generator\n",
    "nc = 3    # Number of channels in images (RGB)\n",
    "image_size = 64  # Size of the generated images\n",
    "\n",
    "# Set random seed for reproducibility\n",
    "random_seed = 999\n",
    "random.seed(random_seed)\n",
    "torch.manual_seed(random_seed)\n",
    "if torch.cuda.is_available():\n",
    "    torch.cuda.manual_seed_all(random_seed)"
   ]
  },
  {
   "cell_type": "markdown",
   "id": "7455f708",
   "metadata": {},
   "source": [
    "## Generator Architecture\n",
    "\n",
    "We need to define the generator architecture to match the one used during training."
   ]
  },
  {
   "cell_type": "code",
   "execution_count": 3,
   "id": "77b97719",
   "metadata": {},
   "outputs": [],
   "source": [
    "class Generator(nn.Module):\n",
    "    def __init__(self, ngpu=1):\n",
    "        super(Generator, self).__init__()\n",
    "        self.ngpu = ngpu\n",
    "        self.main = nn.Sequential(\n",
    "            # input is Z, going into a convolution\n",
    "            nn.ConvTranspose2d(nz, ngf * 8, 4, 1, 0, bias=False),\n",
    "            nn.BatchNorm2d(ngf * 8),\n",
    "            nn.ReLU(True),\n",
    "            # state size. (ngf*8) x 4 x 4\n",
    "            nn.ConvTranspose2d(ngf * 8, ngf * 4, 4, 2, 1, bias=False),\n",
    "            nn.BatchNorm2d(ngf * 4),\n",
    "            nn.ReLU(True),\n",
    "            # state size. (ngf*4) x 8 x 8\n",
    "            nn.ConvTranspose2d(ngf * 4, ngf * 2, 4, 2, 1, bias=False),\n",
    "            nn.BatchNorm2d(ngf * 2),\n",
    "            nn.ReLU(True),\n",
    "            # state size. (ngf*2) x 16 x 16\n",
    "            nn.ConvTranspose2d(ngf * 2, ngf, 4, 2, 1, bias=False),\n",
    "            nn.BatchNorm2d(ngf),\n",
    "            nn.ReLU(True),\n",
    "            # state size. (ngf) x 32 x 32\n",
    "            nn.ConvTranspose2d(ngf, nc, 4, 2, 1, bias=False),\n",
    "            nn.Tanh()\n",
    "            # state size. (nc) x 64 x 64\n",
    "        )\n",
    "\n",
    "    def forward(self, input):\n",
    "        return self.main(input)"
   ]
  },
  {
   "cell_type": "markdown",
   "id": "fb291e6c",
   "metadata": {},
   "source": [
    "## Load Pre-trained Generator Model\n",
    "\n",
    "Now we'll load the pre-trained model. Make sure you've run the main training notebook first."
   ]
  },
  {
   "cell_type": "code",
   "execution_count": 4,
   "id": "36c62bcf",
   "metadata": {},
   "outputs": [
    {
     "name": "stdout",
     "output_type": "stream",
     "text": [
      "Model file not found! Using an untrained model which will produce random noise.\n",
      "Please run the training notebook first to generate a model.\n"
     ]
    },
    {
     "data": {
      "text/plain": [
       "Generator(\n",
       "  (main): Sequential(\n",
       "    (0): ConvTranspose2d(100, 512, kernel_size=(4, 4), stride=(1, 1), bias=False)\n",
       "    (1): BatchNorm2d(512, eps=1e-05, momentum=0.1, affine=True, track_running_stats=True)\n",
       "    (2): ReLU(inplace=True)\n",
       "    (3): ConvTranspose2d(512, 256, kernel_size=(4, 4), stride=(2, 2), padding=(1, 1), bias=False)\n",
       "    (4): BatchNorm2d(256, eps=1e-05, momentum=0.1, affine=True, track_running_stats=True)\n",
       "    (5): ReLU(inplace=True)\n",
       "    (6): ConvTranspose2d(256, 128, kernel_size=(4, 4), stride=(2, 2), padding=(1, 1), bias=False)\n",
       "    (7): BatchNorm2d(128, eps=1e-05, momentum=0.1, affine=True, track_running_stats=True)\n",
       "    (8): ReLU(inplace=True)\n",
       "    (9): ConvTranspose2d(128, 64, kernel_size=(4, 4), stride=(2, 2), padding=(1, 1), bias=False)\n",
       "    (10): BatchNorm2d(64, eps=1e-05, momentum=0.1, affine=True, track_running_stats=True)\n",
       "    (11): ReLU(inplace=True)\n",
       "    (12): ConvTranspose2d(64, 3, kernel_size=(4, 4), stride=(2, 2), padding=(1, 1), bias=False)\n",
       "    (13): Tanh()\n",
       "  )\n",
       ")"
      ]
     },
     "execution_count": 4,
     "metadata": {},
     "output_type": "execute_result"
    }
   ],
   "source": [
    "# Initialize generator\n",
    "netG = Generator().to(device)\n",
    "\n",
    "# Load the saved model parameters\n",
    "try:\n",
    "    # Path to the pre-trained model\n",
    "    model_path = \"models/rick_generator_model.pth\" \n",
    "    \n",
    "    # Check if model exists\n",
    "    if os.path.exists(model_path):\n",
    "        netG.load_state_dict(torch.load(model_path, map_location=device))\n",
    "        print(\"Pre-trained generator loaded successfully!\")\n",
    "    else:\n",
    "        print(\"Model file not found! Using an untrained model which will produce random noise.\")\n",
    "        print(\"Please run the training notebook first to generate a model.\")\n",
    "except Exception as e:\n",
    "    print(f\"Error loading model: {e}\")\n",
    "    print(\"Continuing with untrained generator (will produce random noise)\")\n",
    "\n",
    "# Set the model to evaluation mode\n",
    "netG.eval()"
   ]
  },
  {
   "cell_type": "markdown",
   "id": "f94c3371",
   "metadata": {},
   "source": [
    "## Interactive Generator Controls\n",
    "\n",
    "Let's create interactive controls to manipulate the latent space and generate different Rick images."
   ]
  },
  {
   "cell_type": "code",
   "execution_count": 5,
   "id": "b17d2734",
   "metadata": {},
   "outputs": [
    {
     "name": "stdout",
     "output_type": "stream",
     "text": [
      "Image generated in 0.02 seconds\n"
     ]
    },
    {
     "data": {
      "image/png": "[encoded data removed]",
      "text/plain": [
       "<Figure size 800x800 with 1 Axes>"
      ]
     },
     "metadata": {},
     "output_type": "display_data"
    }
   ],
   "source": [
    "import time\n",
    "\n",
    "# Function to generate an image from a latent vector\n",
    "def generate_image(latent_vector):\n",
    "    with torch.no_grad():\n",
    "        start = time.time()\n",
    "        latent_vector_reshaped = latent_vector.view(1, nz, 1, 1).to(device)\n",
    "        fake_img = netG(latent_vector_reshaped).detach().cpu()\n",
    "        end = time.time()\n",
    "        print(f\"Image generated in {end - start:.2f} seconds\")\n",
    "        return fake_img\n",
    "\n",
    "# Function to display an image\n",
    "def display_image(img):\n",
    "    plt.figure(figsize=(8, 8))\n",
    "    plt.axis(\"off\")\n",
    "    plt.imshow(np.transpose(vutils.make_grid(img, padding=2, normalize=True), (1, 2, 0)))\n",
    "    plt.show()\n",
    "\n",
    "# Initial random latent vector\n",
    "fixed_noise = torch.randn(1, nz, 1, 1, device=device)\n",
    "random_vector = fixed_noise.view(-1).detach().cpu()\n",
    "\n",
    "# Generate and display an initial image\n",
    "initial_img = generate_image(random_vector)\n",
    "display_image(initial_img)"
   ]
  },
  {
   "cell_type": "markdown",
   "id": "eada8dd2",
   "metadata": {},
   "source": [
    "## Real-time Image Generation\n",
    "\n",
    "Create an interactive interface to modify the latent space vectors directly."
   ]
  },
  {
   "cell_type": "code",
   "execution_count": 6,
   "id": "ce016019",
   "metadata": {},
   "outputs": [
    {
     "data": {
      "application/vnd.jupyter.widget-view+json": {
       "model_id": "8d7b999e56b64e8db79c314f6725c0d1",
       "version_major": 2,
       "version_minor": 0
      },
      "text/plain": [
       "VBox(children=(HBox(children=(Button(description='Random Vector', style=ButtonStyle()), Button(description='Sa…"
      ]
     },
     "metadata": {},
     "output_type": "display_data"
    },
    {
     "data": {
      "application/vnd.jupyter.widget-view+json": {
       "model_id": "40e27222312a46589a839f92422740ec",
       "version_major": 2,
       "version_minor": 0
      },
      "text/plain": [
       "Output()"
      ]
     },
     "metadata": {},
     "output_type": "display_data"
    }
   ],
   "source": [
    "# Create sliders for the first 10 dimensions of the latent space (for simplicity)\n",
    "sliders = []\n",
    "for i in range(10):\n",
    "    slider = widgets.FloatSlider(\n",
    "        value=random_vector[i].item(),\n",
    "        min=-3.0,\n",
    "        max=3.0,\n",
    "        step=0.1,\n",
    "        description=f'Dim {i+1}:',\n",
    "        disabled=False,\n",
    "        continuous_update=False,\n",
    "        orientation='horizontal',\n",
    "        readout=True,\n",
    "        readout_format='.1f',\n",
    "    )\n",
    "    sliders.append(slider)\n",
    "\n",
    "# Create a function to generate images when sliders change\n",
    "output = widgets.Output()\n",
    "\n",
    "def on_slider_change(change):\n",
    "    with output:\n",
    "        clear_output(wait=True)\n",
    "        # Update the vector with slider values\n",
    "        for i, slider in enumerate(sliders):\n",
    "            if i < len(random_vector):\n",
    "                random_vector[i] = slider.value\n",
    "        \n",
    "        # Generate and display the image\n",
    "        img = generate_image(random_vector)\n",
    "        display_image(img)\n",
    "\n",
    "# Register the callback with each slider\n",
    "for slider in sliders:\n",
    "    slider.observe(on_slider_change, names='value')\n",
    "\n",
    "# Create a button to generate a new random vector\n",
    "def on_random_button_click(b):\n",
    "    new_vector = torch.randn(nz)\n",
    "    for i, slider in enumerate(sliders):\n",
    "        if i < len(new_vector):\n",
    "            slider.value = new_vector[i].item()\n",
    "\n",
    "random_button = widgets.Button(description=\"Random Vector\")\n",
    "random_button.on_click(on_random_button_click)\n",
    "\n",
    "# Create a button to save the current image\n",
    "def on_save_button_click(b):\n",
    "    with output:\n",
    "        # Create a directory for saved images if it doesn't exist\n",
    "        save_dir = \"generated_images\"\n",
    "        os.makedirs(save_dir, exist_ok=True)\n",
    "        \n",
    "        # Generate filename with timestamp\n",
    "        timestamp = datetime.now().strftime(\"%Y%m%d_%H%M%S\")\n",
    "        filename = f\"{save_dir}/rick_generated_{timestamp}.png\"\n",
    "        \n",
    "        # Generate the image\n",
    "        img = generate_image(random_vector)\n",
    "        \n",
    "        # Save the image\n",
    "        vutils.save_image(img, filename, normalize=True)\n",
    "        print(f\"Image saved to {filename}\")\n",
    "\n",
    "save_button = widgets.Button(description=\"Save Image\")\n",
    "save_button.on_click(on_save_button_click)\n",
    "\n",
    "# Display the controls\n",
    "controls = widgets.VBox([widgets.HBox([random_button, save_button])] + sliders)\n",
    "display(controls, output)\n",
    "\n",
    "# Generate initial image in the output area\n",
    "with output:\n",
    "    img = generate_image(random_vector)\n",
    "    display_image(img)"
   ]
  },
  {
   "cell_type": "markdown",
   "id": "a5506539",
   "metadata": {},
   "source": [
    "## Latent Space Interpolation\n",
    "\n",
    "Let's create tools to interpolate between different points in the latent space."
   ]
  },
  {
   "cell_type": "code",
   "execution_count": null,
   "id": "9e13797e",
   "metadata": {},
   "outputs": [
    {
     "data": {
      "application/vnd.jupyter.widget-view+json": {
       "model_id": "0efadb791f8f47df8fecd44718f66a20",
       "version_major": 2,
       "version_minor": 0
      },
      "text/plain": [
       "VBox(children=(HTML(value='<h3>Latent Space Interpolation</h3>'), HBox(children=(FloatSlider(value=0.0, contin…"
      ]
     },
     "metadata": {},
     "output_type": "display_data"
    }
   ],
   "source": [
    "# Function to interpolate between two latent vectors and display the result as an animation\n",
    "def interpolate_vectors(z1, z2, steps=10):\n",
    "    # Create interpolation points\n",
    "    alphas = np.linspace(0, 1, steps)\n",
    "    interpolated_images = []\n",
    "    \n",
    "    for alpha in alphas:\n",
    "        z_interp = z1 * (1 - alpha) + z2 * alpha\n",
    "        with torch.no_grad():\n",
    "            img = generate_image(z_interp)\n",
    "            interpolated_images.append(img)\n",
    "    \n",
    "    return interpolated_images\n",
    "\n",
    "# Generate two random points in latent space\n",
    "point1 = torch.randn(nz)\n",
    "point2 = torch.randn(nz)\n",
    "\n",
    "# Create interpolation slider\n",
    "interpolation_slider = widgets.FloatSlider(\n",
    "    value=0.0,\n",
    "    min=0.0,\n",
    "    max=1.0,\n",
    "    step=0.05,\n",
    "    description='Interpolate:',\n",
    "    continuous_update=False\n",
    ")\n",
    "\n",
    "interp_output = widgets.Output()\n",
    "\n",
    "def on_interpolation_slider_change(change):\n",
    "    with interp_output:\n",
    "        clear_output(wait=True)\n",
    "        alpha = change['new']\n",
    "        z_interp = point1 * (1-alpha) + point2 * alpha\n",
    "        img = generate_image(z_interp)\n",
    "        display_image(img)\n",
    "\n",
    "interpolation_slider.observe(on_interpolation_slider_change, names='value')\n",
    "\n",
    "# Button to generate new random points\n",
    "def on_new_points_button_click(b):\n",
    "    global point1, point2\n",
    "    point1 = torch.randn(nz)\n",
    "    point2 = torch.randn(nz)\n",
    "    interpolation_slider.value = 0.0\n",
    "\n",
    "new_points_button = widgets.Button(description=\"New Random Points\")\n",
    "new_points_button.on_click(on_new_points_button_click)\n",
    "\n",
    "# Display the interpolation controls\n",
    "display(widgets.VBox([\n",
    "    widgets.HTML(\"<h3>Latent Space Interpolation</h3>\"),\n",
    "    widgets.HBox([interpolation_slider, new_points_button]),\n",
    "    interp_output\n",
    "]))\n",
    "\n",
    "# Show initial interpolation\n",
    "with interp_output:\n",
    "    img = generate_image(point1)\n",
    "    display_image(img)"
   ]
  },
  {
   "cell_type": "markdown",
   "id": "18e156f6",
   "metadata": {},
   "source": [
    "## Batch Generation and Analysis\n",
    "\n",
    "Let's generate a batch of images to analyze the diversity and quality of our generator."
   ]
  },
  {
   "cell_type": "code",
   "execution_count": 8,
   "id": "b136cf97",
   "metadata": {},
   "outputs": [
    {
     "data": {
      "application/vnd.jupyter.widget-view+json": {
       "model_id": "7f23f6b3695847baba527bc580d4528e",
       "version_major": 2,
       "version_minor": 0
      },
      "text/plain": [
       "VBox(children=(HTML(value='<h3>Generate Multiple Images</h3>'), HBox(children=(IntSlider(value=25, continuous_…"
      ]
     },
     "metadata": {},
     "output_type": "display_data"
    }
   ],
   "source": [
    "# Generate a grid of multiple images\n",
    "def generate_image_grid(num_images=25, nrow=5):\n",
    "    noise = torch.randn(num_images, nz, 1, 1, device=device)\n",
    "    with torch.no_grad():\n",
    "        fake_batch = netG(noise).detach().cpu()\n",
    "    \n",
    "    grid = vutils.make_grid(fake_batch, nrow=nrow, padding=2, normalize=True)\n",
    "    plt.figure(figsize=(12, 12))\n",
    "    plt.axis(\"off\")\n",
    "    plt.title(f\"Grid of {num_images} Generated Rick Images\")\n",
    "    plt.imshow(np.transpose(grid, (1, 2, 0)))\n",
    "    plt.show()\n",
    "    \n",
    "    return fake_batch\n",
    "\n",
    "# Button to generate an image grid\n",
    "generate_grid_button = widgets.Button(description=\"Generate Image Grid\")\n",
    "grid_size_slider = widgets.IntSlider(\n",
    "    value=25,\n",
    "    min=4,\n",
    "    max=64,\n",
    "    step=1,\n",
    "    description='Grid Size:',\n",
    "    continuous_update=False\n",
    ")\n",
    "\n",
    "grid_output = widgets.Output()\n",
    "\n",
    "def on_generate_grid_button_click(b):\n",
    "    with grid_output:\n",
    "        clear_output(wait=True)\n",
    "        n = grid_size_slider.value\n",
    "        nrow = int(np.sqrt(n))\n",
    "        _ = generate_image_grid(n, nrow)\n",
    "\n",
    "generate_grid_button.on_click(on_generate_grid_button_click)\n",
    "\n",
    "# Display the grid controls\n",
    "display(widgets.VBox([\n",
    "    widgets.HTML(\"<h3>Generate Multiple Images</h3>\"),\n",
    "    widgets.HBox([grid_size_slider, generate_grid_button]),\n",
    "    grid_output\n",
    "]))"
   ]
  },
  {
   "cell_type": "markdown",
   "id": "efbf0998",
   "metadata": {},
   "source": [
    "## Export Generated Images\n",
    "\n",
    "Let's create functionality to export our generated images in different sizes."
   ]
  },
  {
   "cell_type": "code",
   "execution_count": 9,
   "id": "6d5ed8b9",
   "metadata": {},
   "outputs": [
    {
     "data": {
      "application/vnd.jupyter.widget-view+json": {
       "model_id": "4988fbed23694e6382566c9ce8b19743",
       "version_major": 2,
       "version_minor": 0
      },
      "text/plain": [
       "VBox(children=(HTML(value='<h3>Export Images</h3>'), Button(description='Export in Different Resolutions', sty…"
      ]
     },
     "metadata": {},
     "output_type": "display_data"
    }
   ],
   "source": [
    "# Function to save the current image in different resolutions\n",
    "def save_in_different_resolutions(latent_vector):\n",
    "    # Create directory if it doesn't exist\n",
    "    save_dir = \"generated_images\"\n",
    "    os.makedirs(save_dir, exist_ok=True)\n",
    "    \n",
    "    # Generate timestamp for unique filenames\n",
    "    timestamp = datetime.now().strftime(\"%Y%m%d_%H%M%S\")\n",
    "    \n",
    "    # Generate the base image\n",
    "    with torch.no_grad():\n",
    "        latent_vector_reshaped = latent_vector.view(1, nz, 1, 1).to(device)\n",
    "        base_img = netG(latent_vector_reshaped).detach().cpu()\n",
    "    \n",
    "    # Define resolutions to save\n",
    "    resolutions = [\n",
    "        (64, 64),    # Original size\n",
    "        (128, 128),  # 2x upscale\n",
    "        (256, 256),  # 4x upscale\n",
    "        (512, 512)   # 8x upscale\n",
    "    ]\n",
    "    \n",
    "    for res in resolutions:\n",
    "        # Create the transform for this resolution\n",
    "        transform = transforms.Compose([\n",
    "            transforms.Resize(res),\n",
    "            transforms.CenterCrop(res)\n",
    "        ])\n",
    "        \n",
    "        # Apply transform\n",
    "        resized_img = transform(base_img)\n",
    "        \n",
    "        # Save the image\n",
    "        filename = f\"{save_dir}/rick_{res[0]}x{res[1]}_{timestamp}.png\"\n",
    "        vutils.save_image(resized_img, filename, normalize=True)\n",
    "        print(f\"Saved {res[0]}x{res[1]} image to {filename}\")\n",
    "    \n",
    "    return \"Images saved successfully in different resolutions!\"\n",
    "\n",
    "# Create a button to save in different resolutions\n",
    "export_button = widgets.Button(description=\"Export in Different Resolutions\")\n",
    "export_output = widgets.Output()\n",
    "\n",
    "def on_export_button_click(b):\n",
    "    with export_output:\n",
    "        clear_output(wait=True)\n",
    "        result = save_in_different_resolutions(random_vector)\n",
    "        print(result)\n",
    "\n",
    "export_button.on_click(on_export_button_click)\n",
    "\n",
    "# Display the export controls\n",
    "display(widgets.VBox([\n",
    "    widgets.HTML(\"<h3>Export Images</h3>\"),\n",
    "    export_button,\n",
    "    export_output\n",
    "]))"
   ]
  },
  {
   "cell_type": "markdown",
   "id": "59db0b42",
   "metadata": {},
   "source": [
    "## Conclusion\n",
    "\n",
    "This interactive demo allows you to explore the latent space of our Rick Sanchez GAN model. You can:\n",
    "\n",
    "1. Adjust individual dimensions in the latent space to see their effect\n",
    "2. Generate random new images \n",
    "3. Interpolate between different points in the latent space\n",
    "4. Generate batches of images\n",
    "5. Save your favorite generated Ricks in various resolutions\n",
    "\n",
    "Feel free to experiment with different settings and create your own unique Rick Sanchez images!"
   ]
  }
 ],
 "metadata": {
  "kernelspec": {
   "display_name": "Python 3",
   "language": "python",
   "name": "python3"
  },
  "language_info": {
   "codemirror_mode": {
    "name": "ipython",
    "version": 3
   },
   "file_extension": ".py",
   "mimetype": "text/x-python",
   "name": "python",
   "nbconvert_exporter": "python",
   "pygments_lexer": "ipython3",
   "version": "3.13.1"
  }
 },
 "nbformat": 4,
 "nbformat_minor": 5
}
