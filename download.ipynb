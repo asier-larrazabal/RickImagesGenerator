{
 "cells": [
  {
   "cell_type": "code",
   "execution_count": null,
   "id": "cb90ed22",
   "metadata": {},
   "outputs": [],
   "source": [
    "# Install kagglehub package\n",
    "%pip install kagglehub\n",
    "import kagglehub"
   ]
  },
  {
   "cell_type": "code",
   "execution_count": null,
   "id": "5429a492",
   "metadata": {},
   "outputs": [],
   "source": [
    "# Download latest version\n",
    "path = kagglehub.dataset_download(\"dinoanastasopoulos/gorickyourself\") # It downloads the 3 of the datasets (1080/512/256)\n",
    "print(\"Path to dataset files:\", path)"
   ]
  }
 ],
 "metadata": {
  "language_info": {
   "name": "python"
  }
 },
 "nbformat": 4,
 "nbformat_minor": 5
}
